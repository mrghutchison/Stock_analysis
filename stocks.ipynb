{
  "nbformat": 4,
  "nbformat_minor": 0,
  "metadata": {
    "colab": {
      "name": "stocks.ipynb",
      "provenance": [],
      "authorship_tag": "ABX9TyOdqInUx5WsWHC8vN7axL7p",
      "include_colab_link": true
    },
    "kernelspec": {
      "display_name": "Python 3",
      "name": "python3"
    }
  },
  "cells": [
    {
      "cell_type": "markdown",
      "metadata": {
        "id": "view-in-github",
        "colab_type": "text"
      },
      "source": [
        "<a href=\"https://colab.research.google.com/github/mrghutchison/Stock_analysis/blob/main/stocks.ipynb\" target=\"_parent\"><img src=\"https://colab.research.google.com/assets/colab-badge.svg\" alt=\"Open In Colab\"/></a>"
      ]
    },
    {
      "cell_type": "markdown",
      "metadata": {
        "id": "bqqfeoL7Zy9X"
      },
      "source": [
        "# Stock analysis\n"
      ]
    },
    {
      "cell_type": "code",
      "metadata": {
        "id": "e3JBaeIfbRzn",
        "colab": {
          "base_uri": "https://localhost:8080/"
        },
        "outputId": "9c50cb98-a3cf-4553-97aa-4abd17915d76"
      },
      "source": [
        "%pip install yfinance"
      ],
      "execution_count": null,
      "outputs": [
        {
          "output_type": "stream",
          "text": [
            "Collecting yfinance\n",
            "  Downloading https://files.pythonhosted.org/packages/7a/e8/b9d7104d3a4bf39924799067592d9e59119fcfc900a425a12e80a3123ec8/yfinance-0.1.55.tar.gz\n",
            "Requirement already satisfied: pandas>=0.24 in /usr/local/lib/python3.6/dist-packages (from yfinance) (1.1.5)\n",
            "Requirement already satisfied: numpy>=1.15 in /usr/local/lib/python3.6/dist-packages (from yfinance) (1.19.5)\n",
            "Requirement already satisfied: requests>=2.20 in /usr/local/lib/python3.6/dist-packages (from yfinance) (2.23.0)\n",
            "Requirement already satisfied: multitasking>=0.0.7 in /usr/local/lib/python3.6/dist-packages (from yfinance) (0.0.9)\n",
            "Collecting lxml>=4.5.1\n",
            "\u001b[?25l  Downloading https://files.pythonhosted.org/packages/bd/78/56a7c88a57d0d14945472535d0df9fb4bbad7d34ede658ec7961635c790e/lxml-4.6.2-cp36-cp36m-manylinux1_x86_64.whl (5.5MB)\n",
            "\u001b[K     |████████████████████████████████| 5.5MB 5.7MB/s \n",
            "\u001b[?25hRequirement already satisfied: pytz>=2017.2 in /usr/local/lib/python3.6/dist-packages (from pandas>=0.24->yfinance) (2018.9)\n",
            "Requirement already satisfied: python-dateutil>=2.7.3 in /usr/local/lib/python3.6/dist-packages (from pandas>=0.24->yfinance) (2.8.1)\n",
            "Requirement already satisfied: urllib3!=1.25.0,!=1.25.1,<1.26,>=1.21.1 in /usr/local/lib/python3.6/dist-packages (from requests>=2.20->yfinance) (1.24.3)\n",
            "Requirement already satisfied: chardet<4,>=3.0.2 in /usr/local/lib/python3.6/dist-packages (from requests>=2.20->yfinance) (3.0.4)\n",
            "Requirement already satisfied: certifi>=2017.4.17 in /usr/local/lib/python3.6/dist-packages (from requests>=2.20->yfinance) (2020.12.5)\n",
            "Requirement already satisfied: idna<3,>=2.5 in /usr/local/lib/python3.6/dist-packages (from requests>=2.20->yfinance) (2.10)\n",
            "Requirement already satisfied: six>=1.5 in /usr/local/lib/python3.6/dist-packages (from python-dateutil>=2.7.3->pandas>=0.24->yfinance) (1.15.0)\n",
            "Building wheels for collected packages: yfinance\n",
            "  Building wheel for yfinance (setup.py) ... \u001b[?25l\u001b[?25hdone\n",
            "  Created wheel for yfinance: filename=yfinance-0.1.55-py2.py3-none-any.whl size=22616 sha256=65bad2c237fd5b4be14e726610580b6b8731c3fcd43b4a41aa4c50702de299f9\n",
            "  Stored in directory: /root/.cache/pip/wheels/04/98/cc/2702a4242d60bdc14f48b4557c427ded1fe92aedf257d4565c\n",
            "Successfully built yfinance\n",
            "Installing collected packages: lxml, yfinance\n",
            "  Found existing installation: lxml 4.2.6\n",
            "    Uninstalling lxml-4.2.6:\n",
            "      Successfully uninstalled lxml-4.2.6\n",
            "Successfully installed lxml-4.6.2 yfinance-0.1.55\n"
          ],
          "name": "stdout"
        }
      ]
    },
    {
      "cell_type": "code",
      "metadata": {
        "id": "0q8DFb1AaDVm"
      },
      "source": [
        "ticker = \"BB\"\n",
        "investment = 10000.00\n",
        "num_years = 10"
      ],
      "execution_count": null,
      "outputs": []
    },
    {
      "cell_type": "markdown",
      "metadata": {
        "id": "3ZeEXamsqQaj"
      },
      "source": [
        "# Lookup data\n"
      ]
    },
    {
      "cell_type": "code",
      "metadata": {
        "id": "XKEK14bSaRem"
      },
      "source": [
        "# ticker = input(\"Which stock ticker :\")\n",
        "# investment = float(input(\"How much money do you have to invest? :\"))\n",
        "# num_years = int(input(\"How many years of data do you want to consider? :\"))"
      ],
      "execution_count": null,
      "outputs": []
    },
    {
      "cell_type": "markdown",
      "metadata": {
        "id": "W8aAn8SraT-N"
      },
      "source": [
        "# Use the [yfinance](https://pypi.org/project/yfinance/) Python package to obtain historical price data\n"
      ]
    },
    {
      "cell_type": "code",
      "metadata": {
        "id": "s1zehNwQZyD2",
        "colab": {
          "base_uri": "https://localhost:8080/",
          "height": 669
        },
        "outputId": "192d891b-8f87-4811-dc0c-df3a65dce0a8"
      },
      "source": [
        "import yfinance as yf\n",
        "import matplotlib.pyplot as plt\n",
        "import pandas as pd\n",
        "\n",
        "stock = yf.Ticker(ticker)\n",
        "\n",
        "\n",
        "# get stock info\n",
        "print(\"Industry Sector: \" + str(stock.info[\"sector\"]) )\n",
        "print(\"Number of Employees: \" + str(stock.info[\"fullTimeEmployees\"]) )\n",
        "\n",
        "# get historical market data\n",
        "period_text = str(num_years) + \"y\"\n",
        "hist = stock.history(period=period_text)\n",
        "\n",
        "print (\"Initial set of stock data for \" + ticker)\n",
        "\n",
        "prices = hist[\"Close\"]\n",
        "hist.head()\n",
        "\n",
        "# find optimal purchase and selling price\n",
        "data = pd.Series.to_list(hist[\"Close\"])\n",
        "\n",
        "num_prices = len(data)\n",
        "min_price = data[0]\n",
        "max_price = data[0]\n",
        "max_profit = 0\n",
        "\n",
        "# Nested for loop technique to find the maximum profit\n",
        "#for i in range(num_prices-1):\n",
        " #for j in range(i+1, num_prices):\n",
        "  #new_diff = data[j]-data[i]\n",
        "  #if (new_diff>max_diff):\n",
        "   #max_diff=new_diff\n",
        "   #min_price = data[i]\n",
        "   #min_index = i\n",
        "   #max_price = data[j]\n",
        "   #max_index = j\n",
        "   \n",
        "for i in range(num_prices):\n",
        " profit = data[i]-min_price\n",
        " \n",
        " if data[i] <= min_price:\n",
        "  min_price = data[i]\n",
        "  potential_min_index = i \n",
        "  \n",
        " if (profit>max_profit):\n",
        "  min_index = potential_min_index\n",
        "  max_profit = profit\n",
        "  max_index = i\n",
        "\n",
        "print (\"Potential Capital Gain per stock is: ${:.2f}\".format(max_profit))\n",
        "\n",
        "# Determine the best purchase and selling price\n",
        "purchase = hist.iloc[min_index]\n",
        "sell = hist.iloc[max_index]\n",
        "\n",
        "# The purchase/sell objects are indexed by Timestamp\n",
        "purchase_text = \"Buy at ${:.2f} on {}\".format(purchase.Close,purchase.name.date())\n",
        "sell_text = \"Sell at ${:.2f} on {}\".format(sell.Close, sell.name.date())\n",
        "\n",
        "print (purchase_text)\n",
        "print (sell_text)\n",
        "\n",
        "# How many stocks could you purchase with the investment amount\n",
        "num_stocks_purchased = int(investment/purchase.Close) \n",
        "capital_gains = num_stocks_purchased * max_profit\n",
        "\n",
        "print (\"You could have made at total of ${:.2f} in capital gains.\".format(capital_gains))\n",
        " \n",
        "# Generate a plot based on the Closing prices over time\n",
        "hist['Close'].plot(figsize=(16, 9), title=ticker )"
      ],
      "execution_count": null,
      "outputs": [
        {
          "output_type": "stream",
          "text": [
            "Industry Sector: Technology\n",
            "Number of Employees: 13775\n",
            "Initial set of stock data for NVDA\n",
            "Potential Capital Gain per stock is: $571.85\n",
            "Buy at $10.46 on 2012-11-16\n",
            "Sell at $582.31 on 2020-11-06\n",
            "You could have made at total of $546111.98 in capital gains.\n"
          ],
          "name": "stdout"
        },
        {
          "output_type": "execute_result",
          "data": {
            "text/plain": [
              "<matplotlib.axes._subplots.AxesSubplot at 0x7f7214911550>"
            ]
          },
          "metadata": {
            "tags": []
          },
          "execution_count": 14
        },
        {
          "output_type": "display_data",
          "data": {
            "image/png": "[encoded data removed]",
            "text/plain": [
              "<Figure size 1152x648 with 1 Axes>"
            ]
          },
          "metadata": {
            "tags": [],
            "needs_background": "light"
          }
        }
      ]
    }
  ]
}